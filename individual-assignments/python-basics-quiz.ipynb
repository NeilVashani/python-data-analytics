{
 "cells": [
  {
   "cell_type": "code",
   "execution_count": 7,
   "id": "672b949c-a2b0-46c2-9edd-944e228603c5",
   "metadata": {},
   "outputs": [
    {
     "name": "stdout",
     "output_type": "stream",
     "text": [
      " Hello, WORLD! \n"
     ]
    }
   ],
   "source": [
    "#Question 3\n",
    "raw_input = \" Hello, WORLD! \"\n",
    "print(raw_input)"
   ]
  },
  {
   "cell_type": "code",
   "execution_count": 3,
   "id": "009824dd-1c51-4538-ae61-bae6020dc80f",
   "metadata": {},
   "outputs": [],
   "source": [
    "cleaned_input = raw_input.strip()\n",
    "lowercase_input = cleaned_input.lower()\n",
    "final_input = lowercase_input.replace(\",\", \"\").replace(\"!\", \"\")"
   ]
  },
  {
   "cell_type": "code",
   "execution_count": 5,
   "id": "105a255e-c2af-40bc-b581-fa66129a1bac",
   "metadata": {},
   "outputs": [
    {
     "name": "stdout",
     "output_type": "stream",
     "text": [
      "hello world\n"
     ]
    }
   ],
   "source": [
    "print(final_input)"
   ]
  },
  {
   "cell_type": "code",
   "execution_count": 9,
   "id": "97014aff-f538-4bf4-a8ba-a25b2f85eddf",
   "metadata": {},
   "outputs": [],
   "source": [
    "# Question 4\n",
    "email = \"student.northeastern@university.edu\"\n",
    "username_extract = email[:email.index(\"@\")]  # Extract everything before the \"@\" symbol\n",
    "domain_extract = email[email.index(\"@\")+1:]  # Extract everything after the \"@\" symbol\n",
    "top_level_domain = email[-3:]  # Extract the last three characters (e.g., \"edu\")"
   ]
  },
  {
   "cell_type": "code",
   "execution_count": 13,
   "id": "1f6bbdcd-445b-4cc7-a773-390ec0859485",
   "metadata": {},
   "outputs": [
    {
     "name": "stdout",
     "output_type": "stream",
     "text": [
      "\n",
      "Email:\n",
      "student.northeastern@university.edu\n",
      "\n",
      "Username:\n",
      "student.northeastern\n",
      "\n",
      "Domain:\n",
      "university.edu\n",
      "\n",
      "Top Level Domain:\n",
      "edu\n"
     ]
    }
   ],
   "source": [
    "print(\"\\nEmail:\")\n",
    "print(email)\n",
    "print(\"\\nUsername:\")\n",
    "print(username_extract)\n",
    "print(\"\\nDomain:\")\n",
    "print(domain_extract)\n",
    "print(\"\\nTop Level Domain:\")\n",
    "print(top_level_domain)"
   ]
  },
  {
   "cell_type": "code",
   "execution_count": 15,
   "id": "1365cbce-acb0-4d69-b76a-050678b022c1",
   "metadata": {},
   "outputs": [],
   "source": [
    "# Question 5\n",
    "numbers = [3, 7, 12, 19, 23]\n",
    "filtered_numbers = [num for num in numbers if num > 10]"
   ]
  },
  {
   "cell_type": "code",
   "execution_count": 17,
   "id": "bba6c3d0-8686-45f4-99c0-9fb6d35ed33f",
   "metadata": {},
   "outputs": [
    {
     "name": "stdout",
     "output_type": "stream",
     "text": [
      "\n",
      "The filtered number list is:\n",
      "[12, 19, 23]\n"
     ]
    }
   ],
   "source": [
    "print(\"\\nThe filtered number list is:\")\n",
    "print(filtered_numbers)"
   ]
  },
  {
   "cell_type": "code",
   "execution_count": 25,
   "id": "b2922e31-15e4-4970-93b0-4543cd70ce6d",
   "metadata": {},
   "outputs": [],
   "source": [
    "# Question 6\n",
    "nested_list = [\n",
    "    ['Alice', 14, 85],\n",
    "    ['Bob', 15, 78]\n",
    "]"
   ]
  },
  {
   "cell_type": "code",
   "execution_count": 27,
   "id": "d6c25c45-0303-47cb-87cc-a0c305a1711e",
   "metadata": {},
   "outputs": [
    {
     "name": "stdout",
     "output_type": "stream",
     "text": [
      "\n",
      "The grades for all students are:\n",
      "[85, 78]\n"
     ]
    }
   ],
   "source": [
    "grades = [student[2] for student in nested_list]\n",
    "print(\"\\nThe grades for all students are:\")\n",
    "print(grades)"
   ]
  },
  {
   "cell_type": "code",
   "execution_count": 31,
   "id": "a4121c7f-b42c-436a-bdac-8c62125ed259",
   "metadata": {},
   "outputs": [],
   "source": [
    "# Question 7\n",
    "data = [45, 12, 78, 34, 89]"
   ]
  },
  {
   "cell_type": "code",
   "execution_count": 33,
   "id": "24791e49-3161-4a06-a174-ebd7ff27557c",
   "metadata": {},
   "outputs": [],
   "source": [
    "descending_order = sorted(data, reverse = True)\n",
    "filtered_data = [value for value in data if value > 50]"
   ]
  },
  {
   "cell_type": "code",
   "execution_count": 35,
   "id": "a11cd81c-62d1-47fc-9edf-ae9f53572695",
   "metadata": {},
   "outputs": [
    {
     "name": "stdout",
     "output_type": "stream",
     "text": [
      "\n",
      "Original dataset:\n",
      "[45, 12, 78, 34, 89]\n",
      "\n",
      "The dataset in descending order:\n",
      "[89, 78, 45, 34, 12]\n",
      "\n",
      "Numbers greater than 50:\n",
      "[78, 89]\n"
     ]
    }
   ],
   "source": [
    "print(\"\\nOriginal dataset:\")\n",
    "print(data)\n",
    "\n",
    "print(\"\\nThe dataset in descending order:\")\n",
    "print(descending_order)\n",
    "\n",
    "print(\"\\nNumbers greater than 50:\")\n",
    "print(filtered_data)"
   ]
  },
  {
   "cell_type": "code",
   "execution_count": 3,
   "id": "2c5ea12d-849b-42f3-bb11-22165cb4af54",
   "metadata": {},
   "outputs": [],
   "source": [
    "# Question 8\n",
    "import random\n",
    "random_numbers = [random.randint(1, 100) for _ in range(10)]\n",
    "average_value = sum(random_numbers) / len(random_numbers)"
   ]
  },
  {
   "cell_type": "code",
   "execution_count": 5,
   "id": "1323737a-05a1-465d-867a-1dfad8402f9a",
   "metadata": {},
   "outputs": [
    {
     "name": "stdout",
     "output_type": "stream",
     "text": [
      "\n",
      "The random dataset generated:\n",
      "[10, 72, 20, 79, 28, 46, 24, 32, 28, 98]\n",
      "\n",
      "The average of the values generated:\n",
      "43.7\n"
     ]
    }
   ],
   "source": [
    "print(\"\\nThe random dataset generated:\")\n",
    "print(random_numbers)\n",
    "print(\"\\nThe average of the values generated:\")\n",
    "print(average_value)"
   ]
  },
  {
   "cell_type": "code",
   "execution_count": 9,
   "id": "e6382faf-ca13-4183-890d-9d4be8458ea5",
   "metadata": {},
   "outputs": [],
   "source": [
    "# Question 9\n",
    "numbers = [1, 2, 3, 4, 5]\n",
    "squared_num = [num ** 2 for num in numbers]"
   ]
  },
  {
   "cell_type": "code",
   "execution_count": 11,
   "id": "872f7be6-9e12-49ce-bcb2-c20d08b37a42",
   "metadata": {},
   "outputs": [
    {
     "name": "stdout",
     "output_type": "stream",
     "text": [
      "\n",
      "The original dataeset:\n",
      "[1, 2, 3, 4, 5]\n",
      "\n",
      "The square of the values in the dataset:\n",
      "[1, 4, 9, 16, 25]\n"
     ]
    }
   ],
   "source": [
    "print(\"\\nThe original dataeset:\")\n",
    "print(numbers)\n",
    "\n",
    "print(\"\\nThe square of the values in the dataset:\")\n",
    "print(squared_num)"
   ]
  },
  {
   "cell_type": "code",
   "execution_count": 23,
   "id": "b4799f21-e714-47eb-a55b-c4904ff9b717",
   "metadata": {},
   "outputs": [],
   "source": [
    "# Question 10\n",
    "raw_input = [\" DATA science \", \"PYTHON programming\"]\n",
    "final_data = [text.strip().lower().replace(\"data\", \"info\").capitalize() for text in raw_input]"
   ]
  },
  {
   "cell_type": "code",
   "execution_count": 27,
   "id": "07bd8177-af71-40d8-842f-85a1c8c6eb06",
   "metadata": {},
   "outputs": [
    {
     "name": "stdout",
     "output_type": "stream",
     "text": [
      "\n",
      "The original input:\n",
      "[' DATA science ', 'PYTHON programming']\n",
      "\n",
      "The cleaned output:\n",
      "['Info science', 'Python programming']\n"
     ]
    }
   ],
   "source": [
    "print(\"\\nThe original input:\")\n",
    "print(raw_input)\n",
    "\n",
    "print(\"\\nThe cleaned output:\")\n",
    "print(final_data)"
   ]
  },
  {
   "cell_type": "code",
   "execution_count": 33,
   "id": "2de34fae-63a3-4a59-bbdd-f6c3ab184622",
   "metadata": {},
   "outputs": [],
   "source": [
    "# Question 12\n",
    "data = (23.5, 24.0, 22.8, 23.9, 24.3, 25.1)\n",
    "first_element = data[0]\n",
    "last_two = data[-2:] \n",
    "between_elements = data[2:5]"
   ]
  },
  {
   "cell_type": "code",
   "execution_count": 35,
   "id": "235ffcc9-f5aa-4c9e-bee4-216102a8079b",
   "metadata": {},
   "outputs": [
    {
     "name": "stdout",
     "output_type": "stream",
     "text": [
      "\n",
      "Original data:\n",
      "(23.5, 24.0, 22.8, 23.9, 24.3, 25.1)\n",
      "\n",
      "First element:\n",
      "23.5\n",
      "\n",
      "Last two elements:\n",
      "(24.3, 25.1)\n",
      "\n",
      "In Between elements:\n",
      "(22.8, 23.9, 24.3)\n"
     ]
    }
   ],
   "source": [
    "print(\"\\nOriginal data:\")\n",
    "print(data)\n",
    "\n",
    "print(\"\\nFirst element:\")\n",
    "print(first_element)\n",
    "\n",
    "print(\"\\nLast two elements:\")\n",
    "print(last_two)\n",
    "\n",
    "print(\"\\nIn Between elements:\")\n",
    "print(between_elements)"
   ]
  },
  {
   "cell_type": "code",
   "execution_count": 37,
   "id": "d376926f-478f-4601-a939-a1f628e96c3d",
   "metadata": {},
   "outputs": [],
   "source": [
    "# Question 13\n",
    "logs = (\n",
    "    (\"2025-01-01 10:00:00\", \"INFO\", \"System started\"),\n",
    "    (\"2025-01-01 10:15:00\", \"ERROR\", \"Connection failed\")\n",
    ")"
   ]
  },
  {
   "cell_type": "code",
   "execution_count": 41,
   "id": "cc78ebaf-4385-4d29-beb7-ff02ef58e3a3",
   "metadata": {},
   "outputs": [],
   "source": [
    "logs_info = [log for log in logs if log[1] == \"INFO\"]\n",
    "\n",
    "error_count = sum(1 for log in logs if log[1] == \"ERROR\")"
   ]
  },
  {
   "cell_type": "code",
   "execution_count": 43,
   "id": "2709a58f-676b-4ad2-9f7d-afeabc7d1849",
   "metadata": {},
   "outputs": [
    {
     "name": "stdout",
     "output_type": "stream",
     "text": [
      "\n",
      "The original tuple:\n",
      "(('2025-01-01 10:00:00', 'INFO', 'System started'), ('2025-01-01 10:15:00', 'ERROR', 'Connection failed'))\n",
      "\n",
      "Messages with INFO level:\n",
      "[('2025-01-01 10:00:00', 'INFO', 'System started')]\n",
      "\n",
      "Number of logs with level ERROR:\n",
      "1\n"
     ]
    }
   ],
   "source": [
    "print(\"\\nThe original tuple:\")\n",
    "print(logs)\n",
    "\n",
    "print(\"\\nMessages with INFO level:\")\n",
    "print(logs_info)\n",
    "\n",
    "print(\"\\nNumber of logs with level ERROR:\")\n",
    "print(error_count)"
   ]
  },
  {
   "cell_type": "code",
   "execution_count": 45,
   "id": "a8dc177f-ee6e-4648-82cb-c1b874fd0e38",
   "metadata": {},
   "outputs": [],
   "source": [
    "# Question 14\n",
    "student = (\"Alice\", 90, 14)\n",
    "name, grade, age = student"
   ]
  },
  {
   "cell_type": "code",
   "execution_count": 49,
   "id": "c6c34424-3e41-4c7e-a8b6-c53a9587adbe",
   "metadata": {},
   "outputs": [
    {
     "name": "stdout",
     "output_type": "stream",
     "text": [
      "\n",
      "Name:\n",
      "Alice\n",
      "\n",
      "Grade:\n",
      "90\n",
      "\n",
      "Age:\n",
      "14\n"
     ]
    }
   ],
   "source": [
    "print(\"\\nName:\")\n",
    "print(name)\n",
    "\n",
    "print(\"\\nGrade:\")\n",
    "print(grade)\n",
    "\n",
    "print(\"\\nAge:\")\n",
    "print(age)"
   ]
  },
  {
   "cell_type": "code",
   "execution_count": 51,
   "id": "a5302808-14b3-4451-9909-1852e6d8d3fe",
   "metadata": {},
   "outputs": [],
   "source": [
    "# Question 15\n",
    "measurements = (85, 90, 78, 92, 88, 76, 110)\n",
    "\n",
    "within_range = all(70 <= value <= 100 for value in measurements)\n",
    "\n",
    "out_of_range = [value for value in measurements if value < 70 or value > 100]"
   ]
  },
  {
   "cell_type": "code",
   "execution_count": 53,
   "id": "a9a63bed-f112-46f4-9121-c76f0c1ac7b6",
   "metadata": {},
   "outputs": [
    {
     "name": "stdout",
     "output_type": "stream",
     "text": [
      "\n",
      "The orignal tuple:\n",
      "(85, 90, 78, 92, 88, 76, 110)\n",
      "\n",
      "Are all values within range? (between 70 and 100)\n",
      "False\n",
      "\n",
      "The values that are out of range are:\n",
      "[110]\n"
     ]
    }
   ],
   "source": [
    "print(\"\\nThe orignal tuple:\")\n",
    "print(measurements)\n",
    "\n",
    "print(\"\\nAre all values within range? (between 70 and 100)\")\n",
    "print(within_range)\n",
    "\n",
    "print(\"\\nThe values that are out of range are:\")\n",
    "print(out_of_range)\n"
   ]
  },
  {
   "cell_type": "code",
   "execution_count": null,
   "id": "474a35bf-0cbe-4cd4-ab65-96f38e0e1cad",
   "metadata": {},
   "outputs": [],
   "source": []
  }
 ],
 "metadata": {
  "kernelspec": {
   "display_name": "Python [conda env:base] *",
   "language": "python",
   "name": "conda-base-py"
  },
  "language_info": {
   "codemirror_mode": {
    "name": "ipython",
    "version": 3
   },
   "file_extension": ".py",
   "mimetype": "text/x-python",
   "name": "python",
   "nbconvert_exporter": "python",
   "pygments_lexer": "ipython3",
   "version": "3.11.7"
  }
 },
 "nbformat": 4,
 "nbformat_minor": 5
}
