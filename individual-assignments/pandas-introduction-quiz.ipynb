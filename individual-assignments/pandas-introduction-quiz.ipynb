{
 "cells": [
  {
   "cell_type": "code",
   "execution_count": 19,
   "id": "4f9e2531-1481-4baf-8984-1d1ead808f7f",
   "metadata": {},
   "outputs": [
    {
     "name": "stdout",
     "output_type": "stream",
     "text": [
      "Employees with salary greater than 60000 and performance score greater than 85: ['Diana']\n"
     ]
    }
   ],
   "source": [
    "#Basics of Python- Part 3\n",
    "#Question 1: Data Filtering\n",
    "employees = [\n",
    "    {\"name\": \"Alice\", \"salary\": 60000, \"performance_score\": 90, \"department\": \"Finance\"},\n",
    "    {\"name\": \"Bob\", \"salary\": 50000, \"performance_score\": 75, \"department\": \"HR\"},\n",
    "    {\"name\": \"Charlie\", \"salary\": 70000, \"performance_score\": 85, \"department\": \"IT\"},\n",
    "    {\"name\": \"Diana\", \"salary\": 65000, \"performance_score\": 92, \"department\": \"Finance\"},\n",
    "    {\"name\": \"Ethan\", \"salary\": 40000, \"performance_score\": 60, \"department\": \"HR\"}\n",
    "]\n",
    "\n",
    "filtered_employees = [emp[\"name\"] for emp in employees \n",
    "                     if emp[\"salary\"] > 60000 and emp[\"performance_score\"] > 85]\n",
    "\n",
    "print(\"Employees with salary greater than 60000 and performance score greater than 85:\", filtered_employees)"
   ]
  },
  {
   "cell_type": "code",
   "execution_count": 21,
   "id": "31372265-c40e-4ba2-b857-3a46c0b5c526",
   "metadata": {},
   "outputs": [
    {
     "name": "stdout",
     "output_type": "stream",
     "text": [
      "Finance average salary: 62500.0\n",
      "HR average salary: 45000.0\n",
      "IT average salary: 70000.0\n"
     ]
    }
   ],
   "source": [
    "#Question 2: Department-wise Analysis\n",
    "\n",
    "# Storing total salary & count\n",
    "total = {}\n",
    "count = {}\n",
    "\n",
    "for emp in employees:\n",
    "    dept = emp[\"department\"]\n",
    "    salary = emp[\"salary\"]\n",
    "    \n",
    "    if dept in total:\n",
    "        total[dept] += salary\n",
    "        count[dept] += 1\n",
    "    else:\n",
    "        total[dept] = salary\n",
    "        count[dept] = 1\n",
    "\n",
    "# Average salary per department\n",
    "for dept in total:\n",
    "    avg = total[dept] / count[dept]\n",
    "    print(dept, \"average salary:\", round(avg, 2))"
   ]
  },
  {
   "cell_type": "code",
   "execution_count": 23,
   "id": "0116fc29-224b-4424-9312-626be22e5fbd",
   "metadata": {},
   "outputs": [
    {
     "name": "stdout",
     "output_type": "stream",
     "text": [
      "Top 3 performing employees:\n",
      "Diana - 92\n",
      "Alice - 90\n",
      "Charlie - 85\n"
     ]
    }
   ],
   "source": [
    "#Question 3: Employee Ranking\n",
    "\n",
    "# Sorting by performance in descending order\n",
    "ranked = sorted(employees, key=lambda x: x[\"performance_score\"], reverse=True)\n",
    "\n",
    "# Top 3 performers\n",
    "print(\"Top 3 performing employees:\")\n",
    "for emp in ranked[:3]:\n",
    "    print(emp[\"name\"], \"-\", emp[\"performance_score\"])"
   ]
  },
  {
   "cell_type": "code",
   "execution_count": 25,
   "id": "4137ee26-bec6-478e-9b4d-ca3b81ad5f4b",
   "metadata": {},
   "outputs": [
    {
     "name": "stdout",
     "output_type": "stream",
     "text": [
      "Updated employee data:\n",
      "{'name': 'Alice', 'salary': 60000, 'performance_score': 90, 'department': 'Finance'}\n",
      "{'name': 'Bob', 'salary': 55000, 'performance_score': 75, 'department': 'HR'}\n",
      "{'name': 'Charlie', 'salary': 70000, 'performance_score': 85, 'department': 'IT'}\n",
      "{'name': 'Diana', 'salary': 65000, 'performance_score': 92, 'department': 'Finance'}\n",
      "{'name': 'Ethan', 'salary': 40000, 'performance_score': 60, 'department': 'HR'}\n"
     ]
    }
   ],
   "source": [
    "#Question 4: Condition-Based Salary Increment\n",
    "\n",
    "# Salary increment\n",
    "for emp in employees:\n",
    "    if emp[\"department\"] == \"HR\" and emp[\"performance_score\"] > 70:\n",
    "        emp[\"salary\"] = round(emp[\"salary\"] * 1.10)\n",
    "\n",
    "print(\"Updated employee data:\")\n",
    "for emp in employees:\n",
    "    print(emp)"
   ]
  },
  {
   "cell_type": "code",
   "execution_count": 27,
   "id": "c5b979af-fe5f-4136-b0b3-9c0eca5f7155",
   "metadata": {},
   "outputs": [
    {
     "name": "stdout",
     "output_type": "stream",
     "text": [
      "Alice - Bonus: $6000.0\n",
      "Bob - Bonus: $2750.0\n",
      "Charlie - Bonus: $7000.0\n",
      "Diana - Bonus: $9750.0\n",
      "Ethan - Bonus: $2000.0\n"
     ]
    }
   ],
   "source": [
    "#Question 5: Nested Conditions for Bonus Allocation\n",
    "\n",
    "# Bonus calculation\n",
    "for emp in employees:\n",
    "    score = emp[\"performance_score\"]\n",
    "    salary = emp[\"salary\"]\n",
    "    \n",
    "    if score > 90:\n",
    "        bonus = 0.15 * salary\n",
    "    elif 80 <= score <= 90:\n",
    "        bonus = 0.10 * salary\n",
    "    else:\n",
    "        bonus = 0.05 * salary\n",
    "    \n",
    "    print(f\"{emp['name']} - Bonus: ${round(bonus, 2)}\")"
   ]
  },
  {
   "cell_type": "code",
   "execution_count": 39,
   "id": "c9e405d8-a16c-412e-a375-5b2f03d19fba",
   "metadata": {},
   "outputs": [
    {
     "name": "stdout",
     "output_type": "stream",
     "text": [
      "Performance Grades:\n",
      "Alice - Grade: Good\n",
      "Bob - Grade: Needs Improvement\n",
      "Charlie - Grade: Good\n",
      "Diana - Grade: Excellent\n",
      "Ethan - Grade: Needs Improvement\n"
     ]
    }
   ],
   "source": [
    "#Question 6: Custom Grading System\n",
    "\n",
    "# Assigning performance grades\n",
    "print(\"Performance Grades:\")\n",
    "for emp in employees:\n",
    "    score = emp[\"performance_score\"]\n",
    "    \n",
    "    if score > 90:\n",
    "        grade = \"Excellent\"\n",
    "    elif 80 <= score <= 90:\n",
    "        grade = \"Good\"\n",
    "    else:\n",
    "        grade = \"Needs Improvement\"\n",
    "    \n",
    "    print(f\"{emp['name']} - Grade: {grade}\")"
   ]
  },
  {
   "cell_type": "code",
   "execution_count": 31,
   "id": "4dfaa734-0eaf-4d93-b385-238ce3c3577a",
   "metadata": {},
   "outputs": [
    {
     "name": "stdout",
     "output_type": "stream",
     "text": [
      "Total salary expenditure per department:\n",
      "Finance: $125000\n",
      "HR: $95000\n",
      "IT: $70000\n",
      "\n",
      "The Department with highest expenditure: Finance ($125000)\n"
     ]
    }
   ],
   "source": [
    "#Question 7: Aggregation Across Departments\n",
    "\n",
    "# Calculating the total salary per department\n",
    "dept_salary = {}\n",
    "for emp in employees:\n",
    "    dept = emp[\"department\"]\n",
    "    salary = emp[\"salary\"]\n",
    "    if dept in dept_salary:\n",
    "        dept_salary[dept] += salary\n",
    "    else:\n",
    "        dept_salary[dept] = salary\n",
    "\n",
    "print(\"Total salary expenditure per department:\")\n",
    "for dept, total in dept_salary.items():\n",
    "    print(f\"{dept}: ${total}\")\n",
    "\n",
    "highest_dept = max(dept_salary, key=dept_salary.get)\n",
    "print(f\"\\nThe Department with highest expenditure: {highest_dept} (${dept_salary[highest_dept]})\")"
   ]
  },
  {
   "cell_type": "code",
   "execution_count": 33,
   "id": "4b9d85c5-f6c1-48e9-8a1f-738c7db9109f",
   "metadata": {},
   "outputs": [
    {
     "name": "stdout",
     "output_type": "stream",
     "text": [
      "{'Finance': [90, 92], 'HR': [75, 60], 'IT': [85]}\n"
     ]
    }
   ],
   "source": [
    "#Question 8: Data Transformation for Visualization \n",
    "\n",
    "dept_scores = {}\n",
    "for emp in employees:\n",
    "    dept = emp[\"department\"]\n",
    "    score = emp[\"performance_score\"]\n",
    "    if dept in dept_scores:\n",
    "        dept_scores[dept].append(score)\n",
    "    else:\n",
    "        dept_scores[dept] = [score]\n",
    "\n",
    "print(dept_scores)"
   ]
  },
  {
   "cell_type": "code",
   "execution_count": 35,
   "id": "2ec7d070-b91d-46de-9308-2c9c0e89e003",
   "metadata": {},
   "outputs": [
    {
     "name": "stdout",
     "output_type": "stream",
     "text": [
      "{'name': 'Alice', 'salary': 60000, 'performance_score': 90, 'department': 'Finance', 'loan_eligible': True}\n",
      "{'name': 'Bob', 'salary': 55000, 'performance_score': 75, 'department': 'HR', 'loan_eligible': False}\n",
      "{'name': 'Charlie', 'salary': 70000, 'performance_score': 85, 'department': 'IT', 'loan_eligible': False}\n",
      "{'name': 'Diana', 'salary': 65000, 'performance_score': 92, 'department': 'Finance', 'loan_eligible': False}\n",
      "{'name': 'Ethan', 'salary': 40000, 'performance_score': 60, 'department': 'HR', 'loan_eligible': False}\n"
     ]
    }
   ],
   "source": [
    "#Question 9: Loan ELigibility Assessment\n",
    "\n",
    "for emp in employees:\n",
    "    if emp[\"performance_score\"] > 80 and emp[\"salary\"] < 65000:\n",
    "        emp[\"loan_eligible\"] = True\n",
    "    else:\n",
    "        emp[\"loan_eligible\"] = False\n",
    "\n",
    "for emp in employees:\n",
    "    print(emp)"
   ]
  },
  {
   "cell_type": "code",
   "execution_count": 41,
   "id": "c059c0da-56c0-4e13-a9f0-04f334b4bb6a",
   "metadata": {},
   "outputs": [
    {
     "name": "stdout",
     "output_type": "stream",
     "text": [
      "Charlie from IT has savings > $12,000 annually.\n",
      "Diana from Finance has savings > $12,000 annually.\n"
     ]
    }
   ],
   "source": [
    "#Question 10: Cross Filtering For Savings Analysis\n",
    "\n",
    "# Savings threshold\n",
    "threshold = 12000\n",
    "\n",
    "# Employees whose savings exceed $12,000 are\n",
    "for emp in employees:\n",
    "    savings = emp[\"salary\"] * 0.20\n",
    "    if savings > threshold:\n",
    "        print(f\"{emp['name']} from {emp['department']} has savings > $12,000 annually.\")"
   ]
  },
  {
   "cell_type": "code",
   "execution_count": 83,
   "id": "51b2433e-c905-4dae-8164-9e6a90f96b68",
   "metadata": {},
   "outputs": [
    {
     "name": "stdout",
     "output_type": "stream",
     "text": [
      "First three rows:\n",
      "          City  Temperature (°F)  Humidity (%)  Rainfall (inches)        Date\n",
      "0     New York                85            70                1.2  2025-01-01\n",
      "1  Los Angeles                90            50                0.5  2025-01-01\n",
      "2      Chicago                78            60                2.3  2025-01-01\n",
      "\n",
      "\n",
      "DataFrame structure:\n",
      "<class 'pandas.core.frame.DataFrame'>\n",
      "RangeIndex: 5 entries, 0 to 4\n",
      "Data columns (total 5 columns):\n",
      " #   Column             Non-Null Count  Dtype  \n",
      "---  ------             --------------  -----  \n",
      " 0   City               5 non-null      object \n",
      " 1   Temperature (°F)   5 non-null      int64  \n",
      " 2   Humidity (%)       5 non-null      int64  \n",
      " 3   Rainfall (inches)  5 non-null      float64\n",
      " 4   Date               5 non-null      object \n",
      "dtypes: float64(1), int64(2), object(2)\n",
      "memory usage: 332.0+ bytes\n",
      "None\n"
     ]
    }
   ],
   "source": [
    "#Pandas Library- Part 1\n",
    "#Question 1: Data Loading & Structure\n",
    "\n",
    "import pandas as pd\n",
    "\n",
    "weather_data = {\n",
    "    \"City\": [\"New York\", \"Los Angeles\", \"Chicago\", \"Houston\", \"Phoenix\"],\n",
    "    \"Temperature (°F)\": [85, 90, 78, 92, 104],\n",
    "    \"Humidity (%)\": [70, 50, 60, 55, 40],\n",
    "    \"Rainfall (inches)\": [1.2, 0.5, 2.3, 0.8, 0.0],\n",
    "    \"Date\": [\"2025-01-01\", \"2025-01-01\", \"2025-01-01\", \"2025-01-01\", \"2025-01-01\"]\n",
    "}\n",
    "\n",
    "# Creating DataFrame\n",
    "df = pd.DataFrame(weather_data)\n",
    "\n",
    "# Displaying the first three rows\n",
    "print(\"First three rows:\")\n",
    "print(df.head(3))\n",
    "print(\"\\n\")\n",
    "\n",
    "# Display the structure of the DataFrame and the data types\n",
    "print(\"DataFrame structure:\")\n",
    "print(df.info())"
   ]
  },
  {
   "cell_type": "code",
   "execution_count": 57,
   "id": "fdf4176d-ff6b-4bdf-a3f3-b9d2639ea94b",
   "metadata": {},
   "outputs": [
    {
     "name": "stdout",
     "output_type": "stream",
     "text": [
      "Average temperature: 89.8°F\n",
      "City with the highest temperature: Phoenix\n",
      "City with the lowest temperature: Chicago\n"
     ]
    }
   ],
   "source": [
    "#Question 2: Temperature Analysis\n",
    "\n",
    "average_temperature = df[\"Temperature (°F)\"].mean()\n",
    "\n",
    "highest_temp_city = df.loc[df[\"Temperature (°F)\"].idxmax(), \"City\"]\n",
    "lowest_temp_city = df.loc[df[\"Temperature (°F)\"].idxmin(), \"City\"]\n",
    "\n",
    "print(f\"Average temperature: {average_temperature}°F\")\n",
    "print(f\"City with the highest temperature: {highest_temp_city}\")\n",
    "print(f\"City with the lowest temperature: {lowest_temp_city}\")"
   ]
  },
  {
   "cell_type": "code",
   "execution_count": 61,
   "id": "0ff9cab8-d6f0-4651-a874-2f4715062906",
   "metadata": {},
   "outputs": [
    {
     "name": "stdout",
     "output_type": "stream",
     "text": [
      "          City  Temperature (°F)  Humidity (%)  Rainfall (inches)        Date\n",
      "1  Los Angeles                90            50                0.5  2025-01-01\n",
      "3      Houston                92            55                0.8  2025-01-01\n",
      "4      Phoenix               104            40                0.0  2025-01-01\n"
     ]
    }
   ],
   "source": [
    "#Question 3: Filtering Data\n",
    "\n",
    "# Filtering cities with temperatures less than 80°F and humidity greater than 60%\n",
    "filtered_df = df.loc[(df[\"Temperature (°F)\"] >= 80) & (df[\"Humidity (%)\"] <= 60)]\n",
    "\n",
    "print(filtered_df)"
   ]
  },
  {
   "cell_type": "code",
   "execution_count": 93,
   "id": "6e9465b4-c5ba-454e-9c6b-165c664310cd",
   "metadata": {},
   "outputs": [
    {
     "name": "stdout",
     "output_type": "stream",
     "text": [
      "          City  Temperature (°F)  Humidity (%)  Rainfall (inches)       Date  \\\n",
      "0     New York                85            70                1.2 2025-01-01   \n",
      "1  Los Angeles                90            50                0.5 2025-01-01   \n",
      "2      Chicago                78            60                2.3 2025-01-01   \n",
      "3      Houston                92            55                0.8 2025-01-01   \n",
      "4      Phoenix               104            40                0.0 2025-01-01   \n",
      "\n",
      "   Year  Month  \\nYear  \n",
      "0  2025      1    2025  \n",
      "1  2025      1    2025  \n",
      "2  2025      1    2025  \n",
      "3  2025      1    2025  \n",
      "4  2025      1    2025  \n"
     ]
    }
   ],
   "source": [
    "#Question 4: Date Formatting\n",
    "\n",
    "# Converting 'Date' column to datetime object\n",
    "df[\"Date\"] = pd.to_datetime(df[\"Date\"])\n",
    "\n",
    "#Extracting Year & Month as new columns\n",
    "df[\"Year\"] = df[\"Date\"].dt.year\n",
    "df[\"Month\"] = df[\"Date\"].dt.month\n",
    "\n",
    "print(df)"
   ]
  },
  {
   "cell_type": "code",
   "execution_count": 95,
   "id": "4f152964-c57c-4905-a0a2-711556f3ee3d",
   "metadata": {},
   "outputs": [
    {
     "name": "stdout",
     "output_type": "stream",
     "text": [
      "          City  Temperature (°F)  Humidity (%)  Rainfall (inches)       Date  \\\n",
      "0     New York                85            70                1.2 2025-01-01   \n",
      "1  Los Angeles                90            50                0.5 2025-01-01   \n",
      "2      Chicago                78            60                2.3 2025-01-01   \n",
      "3      Houston                92            55                0.8 2025-01-01   \n",
      "4      Phoenix               104            40                0.0 2025-01-01   \n",
      "\n",
      "   Year  Month  \\nYear  \n",
      "0  2025      1    2025  \n",
      "1  2025      1    2025  \n",
      "2  2025      1    2025  \n",
      "3  2025      1    2025  \n",
      "4  2025      1    2025  \n"
     ]
    }
   ],
   "source": [
    "#Question 4: Date Formatting\n",
    "\n",
    "# Converting 'Date' column to datetime object\n",
    "df[\"Date\"] = pd.to_datetime(df[\"Date\"])\n",
    "\n",
    "#Extracting Year & Month as new columns\n",
    "df[\"Year\"] = df[\"Date\"].dt.year\n",
    "df[\"Month\"] = df[\"Date\"].dt.month\n",
    "\n",
    "print(df)"
   ]
  },
  {
   "cell_type": "code",
   "execution_count": 67,
   "id": "39ee057c-1e5f-4348-8ea4-30a66b074778",
   "metadata": {},
   "outputs": [
    {
     "name": "stdout",
     "output_type": "stream",
     "text": [
      "          City  Temperature (°F)  Humidity (%)  Rainfall (inches)       Date  \\\n",
      "0     New York                85            70                1.2 2025-01-01   \n",
      "1  Los Angeles                90            50                0.5 2025-01-01   \n",
      "2      Chicago                78            60                2.3 2025-01-01   \n",
      "3      Houston                92            55                0.8 2025-01-01   \n",
      "4      Phoenix               104            40                0.0 2025-01-01   \n",
      "\n",
      "   Year  Month Humidity Level  \n",
      "0  2025      1           High  \n",
      "1  2025      1       Moderate  \n",
      "2  2025      1       Moderate  \n",
      "3  2025      1       Moderate  \n",
      "4  2025      1       Moderate  \n"
     ]
    }
   ],
   "source": [
    "#Question 5: Humidity Categorization\n",
    "\n",
    "# Adding a new column called Humidity Level\n",
    "def categorize_humidity(humidity):\n",
    "    if humidity > 60:\n",
    "        return \"High\"\n",
    "    elif 40 <= humidity <= 60:\n",
    "        return \"Moderate\"\n",
    "    else:\n",
    "        return \"Low\"\n",
    "\n",
    "df[\"Humidity Level\"] = df[\"Humidity (%)\"].apply(categorize_humidity)\n",
    "\n",
    "print(df)"
   ]
  },
  {
   "cell_type": "code",
   "execution_count": 71,
   "id": "1c0f90fc-a138-4a64-8ef8-393b01d95570",
   "metadata": {},
   "outputs": [
    {
     "name": "stdout",
     "output_type": "stream",
     "text": [
      "Correlation coefficient between Temperature and Humidity: -0.8034125966362735\n"
     ]
    }
   ],
   "source": [
    "#Question 6: Correlation Analysis\n",
    "\n",
    "# Calculating the correlation coefficient between Temperature and Humidity\n",
    "correlation = df[\"Temperature (°F)\"].corr(df[\"Humidity (%)\"])\n",
    "\n",
    "print(f\"Correlation coefficient between Temperature and Humidity: {correlation}\")"
   ]
  },
  {
   "cell_type": "code",
   "execution_count": 73,
   "id": "71771db2-8626-4d35-a5fd-4bf2c4ef15c0",
   "metadata": {},
   "outputs": [
    {
     "name": "stdout",
     "output_type": "stream",
     "text": [
      "          City  Temperature (°F)  Humidity (%)  Rainfall (inches)        Date  \\\n",
      "0     New York                85            70                1.2  2025-01-01   \n",
      "1  Los Angeles                90            50                0.5  2025-01-01   \n",
      "2      Chicago                78            60                2.3  2025-01-01   \n",
      "3      Houston                92            55                0.8  2025-01-01   \n",
      "4      Phoenix               104            40                0.0  2025-01-01   \n",
      "\n",
      "  Rainy City  \n",
      "0        Yes  \n",
      "1         No  \n",
      "2        Yes  \n",
      "3         No  \n",
      "4         No  \n"
     ]
    }
   ],
   "source": [
    "#Question 7: Rainfall Insights\n",
    "\n",
    "# Creating a new column Rainy City\n",
    "df[\"Rainy City\"] = df[\"Rainfall (inches)\"].apply(lambda x: \"Yes\" if x > 1 else \"No\")\n",
    "\n",
    "print(df)"
   ]
  },
  {
   "cell_type": "code",
   "execution_count": 75,
   "id": "d1dfd0fb-e263-4731-8c22-4f4cc6b75d25",
   "metadata": {},
   "outputs": [
    {
     "name": "stdout",
     "output_type": "stream",
     "text": [
      "       Temperature (°F)  Humidity (%)  Rainfall (inches)\n",
      "count          5.000000       5.00000           5.000000\n",
      "mean          89.800000      55.00000           0.960000\n",
      "std            9.602083      11.18034           0.867756\n",
      "min           78.000000      40.00000           0.000000\n",
      "25%           85.000000      50.00000           0.500000\n",
      "50%           90.000000      55.00000           0.800000\n",
      "75%           92.000000      60.00000           1.200000\n",
      "max          104.000000      70.00000           2.300000\n"
     ]
    }
   ],
   "source": [
    "#Question 8: Statistical Summary\n",
    "\n",
    "summary = df[[\"Temperature (°F)\", \"Humidity (%)\", \"Rainfall (inches)\"]].describe()\n",
    "\n",
    "print(summary)"
   ]
  },
  {
   "cell_type": "code",
   "execution_count": 77,
   "id": "d1515e2f-db18-4ecb-b97f-b01284ac72a6",
   "metadata": {},
   "outputs": [
    {
     "name": "stdout",
     "output_type": "stream",
     "text": [
      "            Temperature (°F)  Humidity (%)\n",
      "Rainy City                                \n",
      "No                 95.333333     48.333333\n",
      "Yes                81.500000     65.000000\n"
     ]
    }
   ],
   "source": [
    "#Question 9: Data Grouping\n",
    "\n",
    "df[\"Rainy City\"] = df[\"Rainfall (inches)\"].apply(lambda x: \"Yes\" if x > 1 else \"No\")\n",
    "\n",
    "grouped = df.groupby(\"Rainy City\")[[\"Temperature (°F)\", \"Humidity (%)\"]].mean()\n",
    "\n",
    "# Display the results\n",
    "print(grouped)"
   ]
  },
  {
   "cell_type": "code",
   "execution_count": 87,
   "id": "6ad2fdaa-55c0-4003-a354-ba10af0b7b70",
   "metadata": {},
   "outputs": [
    {
     "name": "stdout",
     "output_type": "stream",
     "text": [
      "          City  Total_Rainfall  Average_Temperature\n",
      "0      Chicago             2.3                 78.0\n",
      "1      Houston             0.8                 92.0\n",
      "2  Los Angeles             0.5                 90.0\n",
      "3     New York             1.2                 85.0\n",
      "4      Phoenix             0.0                104.0\n"
     ]
    }
   ],
   "source": [
    "#Question 10: Data Visualization Preparation\n",
    "\n",
    "#Calculating the Total Rainfall and Average Temperatures for all the cities\n",
    "summary_df = df.groupby(\"City\").agg(\n",
    "    Total_Rainfall=(\"Rainfall (inches)\", \"sum\"),\n",
    "    Average_Temperature=(\"Temperature (°F)\", \"mean\")\n",
    ").reset_index()\n",
    "\n",
    "print(summary_df)"
   ]
  },
  {
   "cell_type": "code",
   "execution_count": null,
   "id": "154dbcf3-7bc4-424c-ac41-097ad99c697f",
   "metadata": {},
   "outputs": [],
   "source": []
  }
 ],
 "metadata": {
  "kernelspec": {
   "display_name": "Python [conda env:base] *",
   "language": "python",
   "name": "conda-base-py"
  },
  "language_info": {
   "codemirror_mode": {
    "name": "ipython",
    "version": 3
   },
   "file_extension": ".py",
   "mimetype": "text/x-python",
   "name": "python",
   "nbconvert_exporter": "python",
   "pygments_lexer": "ipython3",
   "version": "3.11.7"
  }
 },
 "nbformat": 4,
 "nbformat_minor": 5
}
