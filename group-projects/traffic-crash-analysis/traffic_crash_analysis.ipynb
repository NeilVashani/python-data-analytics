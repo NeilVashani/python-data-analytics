{
  "nbformat": 4,
  "nbformat_minor": 0,
  "metadata": {
    "colab": {
      "provenance": []
    },
    "kernelspec": {
      "name": "python3",
      "display_name": "Python 3"
    },
    "language_info": {
      "name": "python"
    }
  },
  "cells": [
    {
      "cell_type": "markdown",
      "source": [
        "# Group Project 3\n",
        "\n",
        "### Group - 2\n",
        "\n",
        "1) Neil Vashani\n",
        "\n",
        "2) Kousik Nandury\n",
        "\n",
        "3) Venkata Sai Teja"
      ],
      "metadata": {
        "id": "DV5v8iJ_6nbR"
      }
    },
    {
      "cell_type": "code",
      "execution_count": null,
      "metadata": {
        "colab": {
          "base_uri": "https://localhost:8080/",
          "height": 17
        },
        "id": "Jp-ojo5M4s_q",
        "outputId": "ba94b3b8-3ad8-49c9-d7a1-4e0a08b182c3"
      },
      "outputs": [
        {
          "output_type": "display_data",
          "data": {
            "text/html": [
              "        <script type=\"text/javascript\">\n",
              "        window.PlotlyConfig = {MathJaxConfig: 'local'};\n",
              "        if (window.MathJax && window.MathJax.Hub && window.MathJax.Hub.Config) {window.MathJax.Hub.Config({SVG: {font: \"STIX-Web\"}});}\n",
              "        if (typeof require !== 'undefined') {\n",
              "        require.undef(\"plotly\");\n",
              "        requirejs.config({\n",
              "            paths: {\n",
              "                'plotly': ['https://cdn.plot.ly/plotly-2.35.2.min']\n",
              "            }\n",
              "        });\n",
              "        require(['plotly'], function(Plotly) {\n",
              "            window._Plotly = Plotly;\n",
              "        });\n",
              "        }\n",
              "        </script>\n",
              "        "
            ]
          },
          "metadata": {}
        }
      ],
      "source": [
        "import pandas as pd\n",
        "import numpy as np\n",
        "import plotly.express as px\n",
        "import plotly.graph_objects as go\n",
        "from plotly.subplots import make_subplots\n",
        "import plotly.offline as pyo\n",
        "from datetime import datetime\n",
        "import warnings\n",
        "warnings.filterwarnings('ignore')\n",
        "\n",
        "pyo.init_notebook_mode(connected=True)"
      ]
    },
    {
      "cell_type": "markdown",
      "source": [
        "## Loading and Inspection"
      ],
      "metadata": {
        "id": "K73TXY7WIXhL"
      }
    },
    {
      "cell_type": "code",
      "source": [
        "file_path = '1.08_Crash_Data_Report_(detail).csv'\n",
        "df = pd.read_csv(file_path)\n"
      ],
      "metadata": {
        "id": "J4Zm5_boIaAB"
      },
      "execution_count": null,
      "outputs": []
    },
    {
      "cell_type": "code",
      "source": [
        "print(f\"Dataset Shape: {df.shape}\")\n",
        "print(f\"Total Records: {df.shape[0]:,}\")\n",
        "print(f\"Total Columns: {df.shape[1]}\")"
      ],
      "metadata": {
        "colab": {
          "base_uri": "https://localhost:8080/"
        },
        "id": "9hwGejU2Ie2r",
        "outputId": "cca8a8db-4379-42d3-9dc8-ea1726012c62"
      },
      "execution_count": null,
      "outputs": [
        {
          "output_type": "stream",
          "name": "stdout",
          "text": [
            "Dataset Shape: (51305, 35)\n",
            "Total Records: 51,305\n",
            "Total Columns: 35\n"
          ]
        }
      ]
    },
    {
      "cell_type": "code",
      "source": [
        "print(\"\\nColumn Information:\")\n",
        "print(df.info())\n"
      ],
      "metadata": {
        "colab": {
          "base_uri": "https://localhost:8080/"
        },
        "id": "eb-Jl_cHIk33",
        "outputId": "b578c818-0935-44df-9762-910fbb749957"
      },
      "execution_count": null,
      "outputs": [
        {
          "output_type": "stream",
          "name": "stdout",
          "text": [
            "\n",
            "Column Information:\n",
            "<class 'pandas.core.frame.DataFrame'>\n",
            "RangeIndex: 51305 entries, 0 to 51304\n",
            "Data columns (total 35 columns):\n",
            " #   Column               Non-Null Count  Dtype  \n",
            "---  ------               --------------  -----  \n",
            " 0   X                    51162 non-null  float64\n",
            " 1   Y                    51162 non-null  float64\n",
            " 2   OBJECTID             51305 non-null  int64  \n",
            " 3   Incidentid           51304 non-null  float64\n",
            " 4   DateTime             51304 non-null  object \n",
            " 5   Year                 51304 non-null  float64\n",
            " 6   StreetName           51282 non-null  object \n",
            " 7   CrossStreet          50817 non-null  object \n",
            " 8   Distance             51303 non-null  float64\n",
            " 9   JunctionRelation     51303 non-null  object \n",
            " 10  Totalinjuries        51303 non-null  float64\n",
            " 11  Totalfatalities      51303 non-null  float64\n",
            " 12  Injuryseverity       51303 non-null  object \n",
            " 13  Collisionmanner      51303 non-null  object \n",
            " 14  Lightcondition       51303 non-null  object \n",
            " 15  Weather              51303 non-null  object \n",
            " 16  SurfaceCondition     51303 non-null  object \n",
            " 17  Unittype_One         51303 non-null  object \n",
            " 18  Age_Drv1             51256 non-null  float64\n",
            " 19  Gender_Drv1          50375 non-null  object \n",
            " 20  Traveldirection_One  51303 non-null  object \n",
            " 21  Unitaction_One       51303 non-null  object \n",
            " 22  Violation1_Drv1      51256 non-null  object \n",
            " 23  AlcoholUse_Drv1      51256 non-null  object \n",
            " 24  DrugUse_Drv1         51256 non-null  object \n",
            " 25  Unittype_Two         47916 non-null  object \n",
            " 26  Age_Drv2             46547 non-null  float64\n",
            " 27  Gender_Drv2          46447 non-null  object \n",
            " 28  Traveldirection_Two  47916 non-null  object \n",
            " 29  Unitaction_Two       47916 non-null  object \n",
            " 30  Violation1_Drv2      46547 non-null  object \n",
            " 31  AlcoholUse_Drv2      46547 non-null  object \n",
            " 32  DrugUse_Drv2         46547 non-null  object \n",
            " 33  Latitude             51162 non-null  float64\n",
            " 34  Longitude            51162 non-null  float64\n",
            "dtypes: float64(11), int64(1), object(23)\n",
            "memory usage: 13.7+ MB\n",
            "None\n"
          ]
        }
      ]
    },
    {
      "cell_type": "code",
      "source": [
        "display(df.head())"
      ],
      "metadata": {
        "colab": {
          "base_uri": "https://localhost:8080/",
          "height": 359
        },
        "id": "dH5VHn26IpDk",
        "outputId": "fc4f99cd-f07f-488b-9167-18fb97c0db71"
      },
      "execution_count": null,
      "outputs": [
        {
          "output_type": "display_data",
          "data": {
            "text/plain": [
              "           X         Y  OBJECTID  Incidentid                DateTime    Year  \\\n",
              "0 -111.95221  33.42191         1   2598369.0  2012/01/01 07:25:00+00  2012.0   \n",
              "1 -111.93769  33.42319         2   2593420.0  2012/01/01 11:45:00+00  2012.0   \n",
              "2 -111.89196  33.41842         3   2588493.0  2012/01/01 18:07:00+00  2012.0   \n",
              "3 -111.94791  33.41779         4   2584449.0  2012/01/02 00:03:00+00  2012.0   \n",
              "4 -111.92847  33.34956         5   2592211.0  2012/01/02 00:12:00+00  2012.0   \n",
              "\n",
              "      StreetName CrossStreet  Distance                      JunctionRelation  \\\n",
              "0  University Dr    Hardy Dr     0.000          Intersection Non Interchange   \n",
              "1         7th St  Myrtle Ave   139.920                  Not Junction Related   \n",
              "2       Price Rd   Orange St     0.000              Intersection Interchange   \n",
              "3        11th St     Judd St   200.112                  Not Junction Related   \n",
              "4       Rural Rd   Elliot Rd   135.168  Intersection Related Non Interchange   \n",
              "\n",
              "   ...  Unittype_Two  Age_Drv2 Gender_Drv2 Traveldirection_Two  \\\n",
              "0  ...        Driver      20.0      Female                East   \n",
              "1  ...           NaN       NaN         NaN                 NaN   \n",
              "2  ...        Driver      31.0        Male               South   \n",
              "3  ...    Driverless       NaN         NaN                East   \n",
              "4  ...        Driver      20.0      Female               South   \n",
              "\n",
              "         Unitaction_Two     Violation1_Drv2        AlcoholUse_Drv2  \\\n",
              "0  Going Straight Ahead  No Improper Action  No Apparent Influence   \n",
              "1                   NaN                 NaN                    NaN   \n",
              "2  Going Straight Ahead  No Improper Action  No Apparent Influence   \n",
              "3       Properly Parked                 NaN                    NaN   \n",
              "4  Going Straight Ahead  No Improper Action  No Apparent Influence   \n",
              "\n",
              "            DrugUse_Drv2  Latitude  Longitude  \n",
              "0  No Apparent Influence  33.42191 -111.95221  \n",
              "1                    NaN  33.42319 -111.93769  \n",
              "2  No Apparent Influence  33.41842 -111.89196  \n",
              "3                    NaN  33.41779 -111.94791  \n",
              "4  No Apparent Influence  33.34956 -111.92847  \n",
              "\n",
              "[5 rows x 35 columns]"
            ],
            "text/html": [
              "\n",
              "  <div id=\"df-944ca362-aca8-4d2b-9306-aa6a6111a01a\" class=\"colab-df-container\">\n",
              "    <div>\n",
              "<style scoped>\n",
              "    .dataframe tbody tr th:only-of-type {\n",
              "        vertical-align: middle;\n",
              "    }\n",
              "\n",
              "    .dataframe tbody tr th {\n",
              "        vertical-align: top;\n",
              "    }\n",
              "\n",
              "    .dataframe thead th {\n",
              "        text-align: right;\n",
              "    }\n",
              "</style>\n",
              "<table border=\"1\" class=\"dataframe\">\n",
              "  <thead>\n",
              "    <tr style=\"text-align: right;\">\n",
              "      <th></th>\n",
              "      <th>X</th>\n",
              "      <th>Y</th>\n",
              "      <th>OBJECTID</th>\n",
              "      <th>Incidentid</th>\n",
              "      <th>DateTime</th>\n",
              "      <th>Year</th>\n",
              "      <th>StreetName</th>\n",
              "      <th>CrossStreet</th>\n",
              "      <th>Distance</th>\n",
              "      <th>JunctionRelation</th>\n",
              "      <th>...</th>\n",
              "      <th>Unittype_Two</th>\n",
              "      <th>Age_Drv2</th>\n",
              "      <th>Gender_Drv2</th>\n",
              "      <th>Traveldirection_Two</th>\n",
              "      <th>Unitaction_Two</th>\n",
              "      <th>Violation1_Drv2</th>\n",
              "      <th>AlcoholUse_Drv2</th>\n",
              "      <th>DrugUse_Drv2</th>\n",
              "      <th>Latitude</th>\n",
              "      <th>Longitude</th>\n",
              "    </tr>\n",
              "  </thead>\n",
              "  <tbody>\n",
              "    <tr>\n",
              "      <th>0</th>\n",
              "      <td>-111.95221</td>\n",
              "      <td>33.42191</td>\n",
              "      <td>1</td>\n",
              "      <td>2598369.0</td>\n",
              "      <td>2012/01/01 07:25:00+00</td>\n",
              "      <td>2012.0</td>\n",
              "      <td>University Dr</td>\n",
              "      <td>Hardy Dr</td>\n",
              "      <td>0.000</td>\n",
              "      <td>Intersection Non Interchange</td>\n",
              "      <td>...</td>\n",
              "      <td>Driver</td>\n",
              "      <td>20.0</td>\n",
              "      <td>Female</td>\n",
              "      <td>East</td>\n",
              "      <td>Going Straight Ahead</td>\n",
              "      <td>No Improper Action</td>\n",
              "      <td>No Apparent Influence</td>\n",
              "      <td>No Apparent Influence</td>\n",
              "      <td>33.42191</td>\n",
              "      <td>-111.95221</td>\n",
              "    </tr>\n",
              "    <tr>\n",
              "      <th>1</th>\n",
              "      <td>-111.93769</td>\n",
              "      <td>33.42319</td>\n",
              "      <td>2</td>\n",
              "      <td>2593420.0</td>\n",
              "      <td>2012/01/01 11:45:00+00</td>\n",
              "      <td>2012.0</td>\n",
              "      <td>7th St</td>\n",
              "      <td>Myrtle Ave</td>\n",
              "      <td>139.920</td>\n",
              "      <td>Not Junction Related</td>\n",
              "      <td>...</td>\n",
              "      <td>NaN</td>\n",
              "      <td>NaN</td>\n",
              "      <td>NaN</td>\n",
              "      <td>NaN</td>\n",
              "      <td>NaN</td>\n",
              "      <td>NaN</td>\n",
              "      <td>NaN</td>\n",
              "      <td>NaN</td>\n",
              "      <td>33.42319</td>\n",
              "      <td>-111.93769</td>\n",
              "    </tr>\n",
              "    <tr>\n",
              "      <th>2</th>\n",
              "      <td>-111.89196</td>\n",
              "      <td>33.41842</td>\n",
              "      <td>3</td>\n",
              "      <td>2588493.0</td>\n",
              "      <td>2012/01/01 18:07:00+00</td>\n",
              "      <td>2012.0</td>\n",
              "      <td>Price Rd</td>\n",
              "      <td>Orange St</td>\n",
              "      <td>0.000</td>\n",
              "      <td>Intersection Interchange</td>\n",
              "      <td>...</td>\n",
              "      <td>Driver</td>\n",
              "      <td>31.0</td>\n",
              "      <td>Male</td>\n",
              "      <td>South</td>\n",
              "      <td>Going Straight Ahead</td>\n",
              "      <td>No Improper Action</td>\n",
              "      <td>No Apparent Influence</td>\n",
              "      <td>No Apparent Influence</td>\n",
              "      <td>33.41842</td>\n",
              "      <td>-111.89196</td>\n",
              "    </tr>\n",
              "    <tr>\n",
              "      <th>3</th>\n",
              "      <td>-111.94791</td>\n",
              "      <td>33.41779</td>\n",
              "      <td>4</td>\n",
              "      <td>2584449.0</td>\n",
              "      <td>2012/01/02 00:03:00+00</td>\n",
              "      <td>2012.0</td>\n",
              "      <td>11th St</td>\n",
              "      <td>Judd St</td>\n",
              "      <td>200.112</td>\n",
              "      <td>Not Junction Related</td>\n",
              "      <td>...</td>\n",
              "      <td>Driverless</td>\n",
              "      <td>NaN</td>\n",
              "      <td>NaN</td>\n",
              "      <td>East</td>\n",
              "      <td>Properly Parked</td>\n",
              "      <td>NaN</td>\n",
              "      <td>NaN</td>\n",
              "      <td>NaN</td>\n",
              "      <td>33.41779</td>\n",
              "      <td>-111.94791</td>\n",
              "    </tr>\n",
              "    <tr>\n",
              "      <th>4</th>\n",
              "      <td>-111.92847</td>\n",
              "      <td>33.34956</td>\n",
              "      <td>5</td>\n",
              "      <td>2592211.0</td>\n",
              "      <td>2012/01/02 00:12:00+00</td>\n",
              "      <td>2012.0</td>\n",
              "      <td>Rural Rd</td>\n",
              "      <td>Elliot Rd</td>\n",
              "      <td>135.168</td>\n",
              "      <td>Intersection Related Non Interchange</td>\n",
              "      <td>...</td>\n",
              "      <td>Driver</td>\n",
              "      <td>20.0</td>\n",
              "      <td>Female</td>\n",
              "      <td>South</td>\n",
              "      <td>Going Straight Ahead</td>\n",
              "      <td>No Improper Action</td>\n",
              "      <td>No Apparent Influence</td>\n",
              "      <td>No Apparent Influence</td>\n",
              "      <td>33.34956</td>\n",
              "      <td>-111.92847</td>\n",
              "    </tr>\n",
              "  </tbody>\n",
              "</table>\n",
              "<p>5 rows × 35 columns</p>\n",
              "</div>\n",
              "    <div class=\"colab-df-buttons\">\n",
              "\n",
              "  <div class=\"colab-df-container\">\n",
              "    <button class=\"colab-df-convert\" onclick=\"convertToInteractive('df-944ca362-aca8-4d2b-9306-aa6a6111a01a')\"\n",
              "            title=\"Convert this dataframe to an interactive table.\"\n",
              "            style=\"display:none;\">\n",
              "\n",
              "  <svg xmlns=\"http://www.w3.org/2000/svg\" height=\"24px\" viewBox=\"0 -960 960 960\">\n",
              "    <path d=\"M120-120v-720h720v720H120Zm60-500h600v-160H180v160Zm220 220h160v-160H400v160Zm0 220h160v-160H400v160ZM180-400h160v-160H180v160Zm440 0h160v-160H620v160ZM180-180h160v-160H180v160Zm440 0h160v-160H620v160Z\"/>\n",
              "  </svg>\n",
              "    </button>\n",
              "\n",
              "  <style>\n",
              "    .colab-df-container {\n",
              "      display:flex;\n",
              "      gap: 12px;\n",
              "    }\n",
              "\n",
              "    .colab-df-convert {\n",
              "      background-color: #E8F0FE;\n",
              "      border: none;\n",
              "      border-radius: 50%;\n",
              "      cursor: pointer;\n",
              "      display: none;\n",
              "      fill: #1967D2;\n",
              "      height: 32px;\n",
              "      padding: 0 0 0 0;\n",
              "      width: 32px;\n",
              "    }\n",
              "\n",
              "    .colab-df-convert:hover {\n",
              "      background-color: #E2EBFA;\n",
              "      box-shadow: 0px 1px 2px rgba(60, 64, 67, 0.3), 0px 1px 3px 1px rgba(60, 64, 67, 0.15);\n",
              "      fill: #174EA6;\n",
              "    }\n",
              "\n",
              "    .colab-df-buttons div {\n",
              "      margin-bottom: 4px;\n",
              "    }\n",
              "\n",
              "    [theme=dark] .colab-df-convert {\n",
              "      background-color: #3B4455;\n",
              "      fill: #D2E3FC;\n",
              "    }\n",
              "\n",
              "    [theme=dark] .colab-df-convert:hover {\n",
              "      background-color: #434B5C;\n",
              "      box-shadow: 0px 1px 3px 1px rgba(0, 0, 0, 0.15);\n",
              "      filter: drop-shadow(0px 1px 2px rgba(0, 0, 0, 0.3));\n",
              "      fill: #FFFFFF;\n",
              "    }\n",
              "  </style>\n",
              "\n",
              "    <script>\n",
              "      const buttonEl =\n",
              "        document.querySelector('#df-944ca362-aca8-4d2b-9306-aa6a6111a01a button.colab-df-convert');\n",
              "      buttonEl.style.display =\n",
              "        google.colab.kernel.accessAllowed ? 'block' : 'none';\n",
              "\n",
              "      async function convertToInteractive(key) {\n",
              "        const element = document.querySelector('#df-944ca362-aca8-4d2b-9306-aa6a6111a01a');\n",
              "        const dataTable =\n",
              "          await google.colab.kernel.invokeFunction('convertToInteractive',\n",
              "                                                    [key], {});\n",
              "        if (!dataTable) return;\n",
              "\n",
              "        const docLinkHtml = 'Like what you see? Visit the ' +\n",
              "          '<a target=\"_blank\" href=https://colab.research.google.com/notebooks/data_table.ipynb>data table notebook</a>'\n",
              "          + ' to learn more about interactive tables.';\n",
              "        element.innerHTML = '';\n",
              "        dataTable['output_type'] = 'display_data';\n",
              "        await google.colab.output.renderOutput(dataTable, element);\n",
              "        const docLink = document.createElement('div');\n",
              "        docLink.innerHTML = docLinkHtml;\n",
              "        element.appendChild(docLink);\n",
              "      }\n",
              "    </script>\n",
              "  </div>\n",
              "\n",
              "\n",
              "    <div id=\"df-2d848ac5-4fc7-4437-889a-53e5507d1961\">\n",
              "      <button class=\"colab-df-quickchart\" onclick=\"quickchart('df-2d848ac5-4fc7-4437-889a-53e5507d1961')\"\n",
              "                title=\"Suggest charts\"\n",
              "                style=\"display:none;\">\n",
              "\n",
              "<svg xmlns=\"http://www.w3.org/2000/svg\" height=\"24px\"viewBox=\"0 0 24 24\"\n",
              "     width=\"24px\">\n",
              "    <g>\n",
              "        <path d=\"M19 3H5c-1.1 0-2 .9-2 2v14c0 1.1.9 2 2 2h14c1.1 0 2-.9 2-2V5c0-1.1-.9-2-2-2zM9 17H7v-7h2v7zm4 0h-2V7h2v10zm4 0h-2v-4h2v4z\"/>\n",
              "    </g>\n",
              "</svg>\n",
              "      </button>\n",
              "\n",
              "<style>\n",
              "  .colab-df-quickchart {\n",
              "      --bg-color: #E8F0FE;\n",
              "      --fill-color: #1967D2;\n",
              "      --hover-bg-color: #E2EBFA;\n",
              "      --hover-fill-color: #174EA6;\n",
              "      --disabled-fill-color: #AAA;\n",
              "      --disabled-bg-color: #DDD;\n",
              "  }\n",
              "\n",
              "  [theme=dark] .colab-df-quickchart {\n",
              "      --bg-color: #3B4455;\n",
              "      --fill-color: #D2E3FC;\n",
              "      --hover-bg-color: #434B5C;\n",
              "      --hover-fill-color: #FFFFFF;\n",
              "      --disabled-bg-color: #3B4455;\n",
              "      --disabled-fill-color: #666;\n",
              "  }\n",
              "\n",
              "  .colab-df-quickchart {\n",
              "    background-color: var(--bg-color);\n",
              "    border: none;\n",
              "    border-radius: 50%;\n",
              "    cursor: pointer;\n",
              "    display: none;\n",
              "    fill: var(--fill-color);\n",
              "    height: 32px;\n",
              "    padding: 0;\n",
              "    width: 32px;\n",
              "  }\n",
              "\n",
              "  .colab-df-quickchart:hover {\n",
              "    background-color: var(--hover-bg-color);\n",
              "    box-shadow: 0 1px 2px rgba(60, 64, 67, 0.3), 0 1px 3px 1px rgba(60, 64, 67, 0.15);\n",
              "    fill: var(--button-hover-fill-color);\n",
              "  }\n",
              "\n",
              "  .colab-df-quickchart-complete:disabled,\n",
              "  .colab-df-quickchart-complete:disabled:hover {\n",
              "    background-color: var(--disabled-bg-color);\n",
              "    fill: var(--disabled-fill-color);\n",
              "    box-shadow: none;\n",
              "  }\n",
              "\n",
              "  .colab-df-spinner {\n",
              "    border: 2px solid var(--fill-color);\n",
              "    border-color: transparent;\n",
              "    border-bottom-color: var(--fill-color);\n",
              "    animation:\n",
              "      spin 1s steps(1) infinite;\n",
              "  }\n",
              "\n",
              "  @keyframes spin {\n",
              "    0% {\n",
              "      border-color: transparent;\n",
              "      border-bottom-color: var(--fill-color);\n",
              "      border-left-color: var(--fill-color);\n",
              "    }\n",
              "    20% {\n",
              "      border-color: transparent;\n",
              "      border-left-color: var(--fill-color);\n",
              "      border-top-color: var(--fill-color);\n",
              "    }\n",
              "    30% {\n",
              "      border-color: transparent;\n",
              "      border-left-color: var(--fill-color);\n",
              "      border-top-color: var(--fill-color);\n",
              "      border-right-color: var(--fill-color);\n",
              "    }\n",
              "    40% {\n",
              "      border-color: transparent;\n",
              "      border-right-color: var(--fill-color);\n",
              "      border-top-color: var(--fill-color);\n",
              "    }\n",
              "    60% {\n",
              "      border-color: transparent;\n",
              "      border-right-color: var(--fill-color);\n",
              "    }\n",
              "    80% {\n",
              "      border-color: transparent;\n",
              "      border-right-color: var(--fill-color);\n",
              "      border-bottom-color: var(--fill-color);\n",
              "    }\n",
              "    90% {\n",
              "      border-color: transparent;\n",
              "      border-bottom-color: var(--fill-color);\n",
              "    }\n",
              "  }\n",
              "</style>\n",
              "\n",
              "      <script>\n",
              "        async function quickchart(key) {\n",
              "          const quickchartButtonEl =\n",
              "            document.querySelector('#' + key + ' button');\n",
              "          quickchartButtonEl.disabled = true;  // To prevent multiple clicks.\n",
              "          quickchartButtonEl.classList.add('colab-df-spinner');\n",
              "          try {\n",
              "            const charts = await google.colab.kernel.invokeFunction(\n",
              "                'suggestCharts', [key], {});\n",
              "          } catch (error) {\n",
              "            console.error('Error during call to suggestCharts:', error);\n",
              "          }\n",
              "          quickchartButtonEl.classList.remove('colab-df-spinner');\n",
              "          quickchartButtonEl.classList.add('colab-df-quickchart-complete');\n",
              "        }\n",
              "        (() => {\n",
              "          let quickchartButtonEl =\n",
              "            document.querySelector('#df-2d848ac5-4fc7-4437-889a-53e5507d1961 button');\n",
              "          quickchartButtonEl.style.display =\n",
              "            google.colab.kernel.accessAllowed ? 'block' : 'none';\n",
              "        })();\n",
              "      </script>\n",
              "    </div>\n",
              "\n",
              "    </div>\n",
              "  </div>\n"
            ],
            "application/vnd.google.colaboratory.intrinsic+json": {
              "type": "dataframe"
            }
          },
          "metadata": {}
        }
      ]
    },
    {
      "cell_type": "code",
      "source": [
        "print(\"\\nGeospatial Columns Available:\")\n",
        "geo_cols = ['X', 'Y', 'Latitude', 'Longitude']\n",
        "for col in geo_cols:\n",
        "    if col in df.columns:\n",
        "        print(f\" {col}: {df[col].count()} non-null values\")"
      ],
      "metadata": {
        "colab": {
          "base_uri": "https://localhost:8080/"
        },
        "id": "AyydTVQAIskT",
        "outputId": "6dc22c31-f54a-4b56-a8c2-25d419f50dc1"
      },
      "execution_count": null,
      "outputs": [
        {
          "output_type": "stream",
          "name": "stdout",
          "text": [
            "\n",
            "Geospatial Columns Available:\n",
            " X: 51162 non-null values\n",
            " Y: 51162 non-null values\n",
            " Latitude: 51162 non-null values\n",
            " Longitude: 51162 non-null values\n"
          ]
        }
      ]
    },
    {
      "cell_type": "code",
      "source": [
        "\n",
        "numeric_cols = ['Totalinjuries', 'Totalfatalities', 'Age_Drv1', 'Age_Drv2']\n",
        "for col in numeric_cols:\n",
        "    if col in df.columns:\n",
        "        print(f\"{col}: Mean={df[col].mean():.2f}, Max={df[col].max()}, Min={df[col].min()}\")"
      ],
      "metadata": {
        "colab": {
          "base_uri": "https://localhost:8080/"
        },
        "id": "s-HlKulDIxkH",
        "outputId": "f20c2f3e-24b8-4f0f-8fde-e67b7ef55ac3"
      },
      "execution_count": null,
      "outputs": [
        {
          "output_type": "stream",
          "name": "stdout",
          "text": [
            "Totalinjuries: Mean=0.46, Max=9.0, Min=0.0\n",
            "Totalfatalities: Mean=0.00, Max=3.0, Min=0.0\n",
            "Age_Drv1: Mean=47.09, Max=255.0, Min=2.0\n",
            "Age_Drv2: Mean=39.27, Max=255.0, Min=2.0\n"
          ]
        }
      ]
    },
    {
      "cell_type": "markdown",
      "source": [
        "## Missing values:"
      ],
      "metadata": {
        "id": "jIdo6hPLI9Mo"
      }
    },
    {
      "cell_type": "code",
      "source": [
        "# Check missing values\n",
        "print(\"Missing Values Analysis:\")\n",
        "missing_summary = df.isnull().sum()\n",
        "missing_percent = (missing_summary / len(df)) * 100\n",
        "missing_df = pd.DataFrame({\n",
        "    'Missing_Count': missing_summary,\n",
        "    'Missing_Percentage': missing_percent\n",
        "}).sort_values('Missing_Percentage', ascending=False)\n",
        "\n",
        "print(missing_df[missing_df['Missing_Count'] > 0].head(10))"
      ],
      "metadata": {
        "colab": {
          "base_uri": "https://localhost:8080/"
        },
        "id": "KiV_9G3NJHpr",
        "outputId": "5d7a6408-61e9-46ec-df7f-deb3f5e87351"
      },
      "execution_count": null,
      "outputs": [
        {
          "output_type": "stream",
          "name": "stdout",
          "text": [
            "Missing Values Analysis:\n",
            "                     Missing_Count  Missing_Percentage\n",
            "Gender_Drv2                   4858            9.468863\n",
            "DrugUse_Drv2                  4758            9.273950\n",
            "Age_Drv2                      4758            9.273950\n",
            "AlcoholUse_Drv2               4758            9.273950\n",
            "Violation1_Drv2               4758            9.273950\n",
            "Unittype_Two                  3389            6.605594\n",
            "Unitaction_Two                3389            6.605594\n",
            "Traveldirection_Two           3389            6.605594\n",
            "Gender_Drv1                    930            1.812689\n",
            "CrossStreet                    488            0.951174\n"
          ]
        }
      ]
    },
    {
      "cell_type": "markdown",
      "source": [
        "## Data Cleaning:\n"
      ],
      "metadata": {
        "id": "_ZJ3scENJV3l"
      }
    },
    {
      "cell_type": "code",
      "source": [
        "\n",
        "df_clean = df.copy()\n",
        "\n",
        "initial_count = len(df_clean)\n",
        "df_clean = df_clean.dropna(subset=['Latitude', 'Longitude'])\n",
        "print(f\"Removed {initial_count - len(df_clean)} rows with missing coordinates\")\n",
        "\n",
        "df_clean = df_clean[\n",
        "    (df_clean['Latitude'].between(25, 50)) &\n",
        "    (df_clean['Longitude'].between(-130, -65))\n",
        "]\n",
        "print(f\"Final dataset shape after coordinate cleaning: {df_clean.shape}\")\n"
      ],
      "metadata": {
        "colab": {
          "base_uri": "https://localhost:8080/"
        },
        "id": "w3Umvg9EJY6G",
        "outputId": "e3089cef-132a-4a3b-99b9-df067ab0ebf3"
      },
      "execution_count": null,
      "outputs": [
        {
          "output_type": "stream",
          "name": "stdout",
          "text": [
            "Removed 143 rows with missing coordinates\n",
            "Final dataset shape after coordinate cleaning: (51162, 35)\n"
          ]
        }
      ]
    },
    {
      "cell_type": "code",
      "source": [
        "# Removing  incorrect coordinates\n",
        "df_clean = df_clean[\n",
        "    (df_clean['Latitude'].between(25, 50)) &\n",
        "    (df_clean['Longitude'].between(-130, -65))\n",
        "]\n",
        "print(f\"Final dataset shape after coordinate cleaning: {df_clean.shape}\")\n",
        "\n",
        "\n",
        "if 'DateTime' in df_clean.columns:\n",
        "    df_clean['DateTime'] = pd.to_datetime(df_clean['DateTime'], errors='coerce')\n",
        "    df_clean['Hour'] = df_clean['DateTime'].dt.hour\n",
        "    df_clean['DayOfWeek'] = df_clean['DateTime'].dt.day_name()\n",
        "    df_clean['Month'] = df_clean['DateTime'].dt.month\n"
      ],
      "metadata": {
        "colab": {
          "base_uri": "https://localhost:8080/"
        },
        "id": "ZK6GnOwGJtAl",
        "outputId": "255548c6-35a9-43f3-ec86-f9b9d44f2e0a"
      },
      "execution_count": null,
      "outputs": [
        {
          "output_type": "stream",
          "name": "stdout",
          "text": [
            "Final dataset shape after coordinate cleaning: (51162, 35)\n"
          ]
        }
      ]
    },
    {
      "cell_type": "code",
      "source": [
        "# Clean categorical columns\n",
        "categorical_cols = ['Weather', 'Lightcondition', 'SurfaceCondition',\n",
        "                   'Collisionmanner', 'Injuryseverity']\n",
        "for col in categorical_cols:\n",
        "    if col in df_clean.columns:\n",
        "        df_clean[col] = df_clean[col].fillna('Unknown')\n",
        "\n",
        "# Clean numeric columns\n",
        "numeric_cols = ['Totalinjuries', 'Totalfatalities', 'Age_Drv1', 'Age_Drv2']\n",
        "for col in numeric_cols:\n",
        "    if col in df_clean.columns:\n",
        "        df_clean[col] = df_clean[col].fillna(0)\n",
        "\n"
      ],
      "metadata": {
        "id": "vBO5XcaEKAl-"
      },
      "execution_count": null,
      "outputs": []
    },
    {
      "cell_type": "markdown",
      "source": [
        "## Data Viz:"
      ],
      "metadata": {
        "id": "XbauyxXpKOfC"
      }
    },
    {
      "cell_type": "markdown",
      "source": [
        "### Density map of total injuries:"
      ],
      "metadata": {
        "id": "oLQ9S2j4Mju-"
      }
    },
    {
      "cell_type": "code",
      "source": [
        "# Sampleing data as plot becomes crowded\n",
        "if len(df_clean) > 10000:\n",
        "    df_sample = df_clean.sample(n=10000, random_state=42)\n",
        "    print(f\"Sampling {len(df_sample)} points for visualization performance\")\n",
        "else:\n",
        "    df_sample = df_clean\n",
        "\n",
        "density_map = px.density_mapbox(\n",
        "    df_sample,\n",
        "    lat='Latitude',\n",
        "    lon='Longitude',\n",
        "    z='Totalinjuries',\n",
        "    radius=10,\n",
        "    center=dict(lat=df_clean['Latitude'].mean(), lon=df_clean['Longitude'].mean()),\n",
        "    zoom=10,\n",
        "    mapbox_style=\"open-street-map\",\n",
        "    title=\"Crash Density Map - Total Injuries\",\n",
        "    color_continuous_scale=\"YlOrRd\"\n",
        ")\n",
        "\n",
        "density_map.update_layout(\n",
        "    height=600,\n",
        "    title_x=0.5,\n",
        "    title_font_size=16\n",
        ")\n",
        "\n",
        "\n",
        "\n",
        "\n",
        "density_map.write_html(\"density_map_visualization.html\")\n",
        "print(\"Saved density_map_visualization.html\")"
      ],
      "metadata": {
        "colab": {
          "base_uri": "https://localhost:8080/"
        },
        "id": "HtoD9BoJKu7X",
        "outputId": "243ca674-5d52-48f4-a20a-d8f3e56be9c8"
      },
      "execution_count": null,
      "outputs": [
        {
          "output_type": "stream",
          "name": "stdout",
          "text": [
            "Sampling 10000 points for visualization performance\n",
            "Saved density_map_visualization.html\n"
          ]
        }
      ]
    },
    {
      "cell_type": "markdown",
      "source": [
        "Insights:\n",
        "\n",
        "- Majority of the junctions show hight total injuries with bright red spots on the map."
      ],
      "metadata": {
        "id": "4nz6IzmF48Yc"
      }
    },
    {
      "cell_type": "markdown",
      "source": [
        "## Desity map of severity:"
      ],
      "metadata": {
        "id": "rXPsBZpbMrWP"
      }
    },
    {
      "cell_type": "code",
      "source": [
        "# Sample data for performance\n",
        "if len(df_clean) > 5000:\n",
        "    df_sample_severity = df_clean.sample(n=5000, random_state=42)\n",
        "else:\n",
        "    df_sample_severity = df_clean\n",
        "\n",
        "# Create severity categories\n",
        "df_sample_severity['Severity_Category'] = pd.cut(\n",
        "    df_sample_severity['Totalinjuries'] + df_sample_severity['Totalfatalities'],\n",
        "    bins=[-1, 0, 2, 5, float('inf')],\n",
        "    labels=['No Injury', 'Minor', 'Moderate', 'Severe']\n",
        ")\n",
        "\n",
        "severity_map = px.scatter_mapbox(\n",
        "    df_sample_severity,\n",
        "    lat='Latitude',\n",
        "    lon='Longitude',\n",
        "    color='Severity_Category',\n",
        "    size='Totalinjuries',\n",
        "    size_max=15,\n",
        "    hover_data=['DateTime', 'Weather', 'Lightcondition'],\n",
        "    mapbox_style=\"open-street-map\",\n",
        "    title=\"Crash Locations by Severity\",\n",
        "    center=dict(lat=df_clean['Latitude'].mean(), lon=df_clean['Longitude'].mean()),\n",
        "    zoom=10\n",
        ")\n",
        "\n",
        "severity_map.update_layout(\n",
        "    height=600,\n",
        "    title_x=0.5,\n",
        "    title_font_size=16\n",
        ")\n",
        "\n",
        "\n",
        "\n",
        "severity_map.write_html(\"severity_map_visualization.html\")\n",
        "print(\"Saved: severity_map_visualization.html\")"
      ],
      "metadata": {
        "colab": {
          "base_uri": "https://localhost:8080/"
        },
        "id": "G-pJRNYcLR0O",
        "outputId": "ba9039c6-4a0b-44f4-c7cf-521d51611cf2"
      },
      "execution_count": null,
      "outputs": [
        {
          "output_type": "stream",
          "name": "stdout",
          "text": [
            "Saved: severity_map_visualization.html\n"
          ]
        }
      ]
    },
    {
      "cell_type": "markdown",
      "source": [
        "Insights:\n",
        "\n",
        "\n",
        "- Crashes labeled as “Severe” are more geographically concentrated than those labeled as “Moderate” or “Minor”, suggesting potential environmental or behavioral factors unique to those areas.\n",
        "\n",
        "- Larger markers correspond to higher total injuries, helping identify not just frequent but also high-impact locations.\n",
        "\n",
        "- This helps differentiate between locations with frequent minor crashes vs. fewer but more harmful incidents"
      ],
      "metadata": {
        "id": "RqyNVxU2z2QG"
      }
    },
    {
      "cell_type": "markdown",
      "source": [
        "## Temporal analysis Subplots: bar plots"
      ],
      "metadata": {
        "id": "hH2VjUMhNjbb"
      }
    },
    {
      "cell_type": "code",
      "source": [
        "temporal_fig = make_subplots(\n",
        "    rows=2, cols=2,\n",
        "    subplot_titles=['Crashes by Hour of Day', 'Crashes by Day of Week',\n",
        "                   'Crashes by Month', 'Injury Severity by Hour'],\n",
        "    specs=[[{\"type\": \"bar\"}, {\"type\": \"bar\"}],\n",
        "           [{\"type\": \"bar\"}, {\"type\": \"bar\"}]]\n",
        ")\n",
        "\n",
        "# Hour analysis\n",
        "hourly_crashes = df_clean.groupby('Hour').size()\n",
        "temporal_fig.add_trace(\n",
        "    go.Bar(x=hourly_crashes.index, y=hourly_crashes.values, name='Hourly Crashes'),\n",
        "    row=1, col=1\n",
        ")\n",
        "\n",
        "# Day of week analysis\n",
        "day_order = ['Monday', 'Tuesday', 'Wednesday', 'Thursday', 'Friday', 'Saturday', 'Sunday']\n",
        "daily_crashes = df_clean['DayOfWeek'].value_counts().reindex(day_order)\n",
        "temporal_fig.add_trace(\n",
        "    go.Bar(x=daily_crashes.index, y=daily_crashes.values, name='Daily Crashes'),\n",
        "    row=1, col=2\n",
        ")\n",
        "\n",
        "# Monthly analysis\n",
        "monthly_crashes = df_clean.groupby('Month').size()\n",
        "temporal_fig.add_trace(\n",
        "    go.Bar(x=monthly_crashes.index, y=monthly_crashes.values, name='Monthly Crashes'),\n",
        "    row=2, col=1\n",
        ")\n",
        "\n",
        "# Severity by hour\n",
        "severity_hourly = df_clean.groupby('Hour')['Totalinjuries'].mean()\n",
        "temporal_fig.add_trace(\n",
        "    go.Bar(x=severity_hourly.index, y=severity_hourly.values, name='Avg Injuries by Hour'),\n",
        "    row=2, col=2\n",
        ")\n",
        "\n",
        "temporal_fig.update_layout(\n",
        "    height=800,\n",
        "    title_text=\"Temporal Analysis of Crash Data\",\n",
        "    title_x=0.5,\n",
        "    showlegend=False\n",
        ")\n",
        "\n",
        "\n",
        "\n",
        "temporal_fig.write_html(\"temporal_analysis_visualization.html\")\n",
        "print(\"Saved temporal_analysis_visualization.html\")"
      ],
      "metadata": {
        "colab": {
          "base_uri": "https://localhost:8080/"
        },
        "id": "N93s8V4uNt2t",
        "outputId": "cb227961-8be7-4e3a-de0e-0e2fb8334dd6"
      },
      "execution_count": null,
      "outputs": [
        {
          "output_type": "stream",
          "name": "stdout",
          "text": [
            "Saved temporal_analysis_visualization.html\n"
          ]
        }
      ]
    },
    {
      "cell_type": "markdown",
      "source": [
        "Insights:\n",
        "\n",
        "- Majority of the crashes happen during night times during the times of 10pm to 2 am. And are the least at 10am.\n",
        "\n",
        "- When analysed by the week , thursdays and fridays have registered the highest crashes.\n",
        "\n",
        "- And october has registered the highest crashes. Meaning that nights , weekends and holiday times are the peak times for crashes."
      ],
      "metadata": {
        "id": "Mzu1MVDz3Mt8"
      }
    },
    {
      "cell_type": "markdown",
      "source": [
        "## Weather analysis : Bar plot"
      ],
      "metadata": {
        "id": "aIVJSM2oQK6y"
      }
    },
    {
      "cell_type": "code",
      "source": [
        "\n",
        "weather_stats = df_clean.groupby('Weather').agg({\n",
        "    'Incidentid': 'count',\n",
        "    'Totalinjuries': 'mean',\n",
        "    'Totalfatalities': 'mean'\n",
        "}).round(2)\n",
        "weather_stats.columns = ['Total_Crashes', 'Avg_Injuries', 'Avg_Fatalities']\n",
        "weather_stats = weather_stats.sort_values('Total_Crashes', ascending=False)\n",
        "\n",
        "weather_fig = make_subplots(\n",
        "    rows=1, cols=2,\n",
        "    subplot_titles=['Crashes by Weather Condition', 'Average Severity by Weather'],\n",
        "    specs=[[{\"type\": \"bar\"}, {\"type\": \"bar\"}]]\n",
        ")\n",
        "\n",
        "# Total crashes by weather\n",
        "weather_fig.add_trace(\n",
        "    go.Bar(x=weather_stats.index, y=weather_stats['Total_Crashes'],\n",
        "           name='Total Crashes'),\n",
        "    row=1, col=1\n",
        ")\n",
        "\n",
        "# Average injuries by weather\n",
        "weather_fig.add_trace(\n",
        "    go.Bar(x=weather_stats.index, y=weather_stats['Avg_Injuries'],\n",
        "           name='Avg Injuries'),\n",
        "    row=1, col=2\n",
        ")\n",
        "\n",
        "weather_fig.update_layout(\n",
        "    height=500,\n",
        "    title_text=\"Weather Condition Analysis\",\n",
        "    title_x=0.5,\n",
        "    showlegend=False\n",
        ")\n",
        "\n",
        "\n",
        "weather_fig.update_xaxes(tickangle=45)\n",
        "\n",
        "\n",
        "weather_fig.write_html(\"weather_analysis_visualization.html\")\n",
        "print(\"Saved: weather_analysis_visualization.html\")"
      ],
      "metadata": {
        "colab": {
          "base_uri": "https://localhost:8080/"
        },
        "id": "Inm_pnadQXDY",
        "outputId": "6cb9a3d0-e3da-418e-cd82-7712f9426726"
      },
      "execution_count": null,
      "outputs": [
        {
          "output_type": "stream",
          "name": "stdout",
          "text": [
            "Saved: weather_analysis_visualization.html\n"
          ]
        }
      ]
    },
    {
      "cell_type": "markdown",
      "source": [
        "Insights :\n",
        "\n",
        "- Majority of the crashes happend during the clear weather followed by cloudy.\n",
        "- Fog weather has the highest injury rate."
      ],
      "metadata": {
        "id": "_nlCe0-P529Y"
      }
    },
    {
      "cell_type": "markdown",
      "source": [
        "## Driver analysis:"
      ],
      "metadata": {
        "id": "7HgDpcMjRNV2"
      }
    },
    {
      "cell_type": "code",
      "source": [
        "\n",
        "\n",
        "# Clean age data\n",
        "df_demo = df_clean.copy()\n",
        "df_demo['Age_Drv1'] = pd.to_numeric(df_demo['Age_Drv1'], errors='coerce')\n",
        "df_demo['Age_Drv2'] = pd.to_numeric(df_demo['Age_Drv2'], errors='coerce')\n",
        "\n",
        "# Create age groups\n",
        "df_demo['Age_Group_Drv1'] = pd.cut(\n",
        "    df_demo['Age_Drv1'],\n",
        "    bins=[0, 25, 35, 50, 65, 100],\n",
        "    labels=['16-25', '26-35', '36-50', '51-65', '65+']\n",
        ")\n",
        "\n",
        "demographics_fig = make_subplots(\n",
        "    rows=2, cols=2,\n",
        "    subplot_titles=['Driver 1 Age Distribution', 'Driver 1 Gender Distribution',\n",
        "                   'Alcohol Use in Crashes', 'Drug Use in Crashes'],\n",
        "    specs=[[{\"type\": \"bar\"}, {\"type\": \"pie\"}],\n",
        "           [{\"type\": \"pie\"}, {\"type\": \"pie\"}]]\n",
        ")\n",
        "\n",
        "# Age distribution\n",
        "age_dist = df_demo['Age_Group_Drv1'].value_counts()\n",
        "demographics_fig.add_trace(\n",
        "    go.Bar(x=age_dist.index, y=age_dist.values),\n",
        "    row=1, col=1\n",
        ")\n",
        "\n",
        "# Gender distribution\n",
        "if 'Gender_Drv1' in df_demo.columns:\n",
        "    gender_dist = df_demo['Gender_Drv1'].value_counts()\n",
        "    demographics_fig.add_trace(\n",
        "        go.Pie(labels=gender_dist.index, values=gender_dist.values),\n",
        "        row=1, col=2\n",
        "    )\n",
        "\n",
        "# Alcohol use\n",
        "if 'AlcoholUse_Drv1' in df_demo.columns:\n",
        "    alcohol_dist = df_demo['AlcoholUse_Drv1'].value_counts()\n",
        "    demographics_fig.add_trace(\n",
        "        go.Pie(labels=alcohol_dist.index, values=alcohol_dist.values),\n",
        "        row=2, col=1\n",
        "    )\n",
        "\n",
        "# Drug use\n",
        "if 'DrugUse_Drv1' in df_demo.columns:\n",
        "    drug_dist = df_demo['DrugUse_Drv1'].value_counts()\n",
        "    demographics_fig.add_trace(\n",
        "        go.Pie(labels=drug_dist.index, values=drug_dist.values),\n",
        "        row=2, col=2\n",
        "    )\n",
        "\n",
        "demographics_fig.update_layout(\n",
        "    height=800,\n",
        "    title_text=\"Driver Demographics Analysis\",\n",
        "    title_x=0.5,\n",
        "    showlegend=False\n",
        ")\n",
        "\n",
        "\n",
        "demographics_fig.write_html(\"demographics_visualization.html\")\n",
        "print(\"Saved demographics_visualization.html\")"
      ],
      "metadata": {
        "colab": {
          "base_uri": "https://localhost:8080/"
        },
        "id": "rCRVaMnTR5_r",
        "outputId": "f15fe656-0cc7-4ae9-cd26-1d53aab570fb"
      },
      "execution_count": null,
      "outputs": [
        {
          "output_type": "stream",
          "name": "stdout",
          "text": [
            "Saved demographics_visualization.html\n"
          ]
        }
      ]
    },
    {
      "cell_type": "markdown",
      "source": [
        "Insights:\n",
        "\n",
        "Age Distribution:\n",
        "\n",
        "- The 16–25 age group is involved in the most crashes, with over 18,000 incidents—indicating young drivers are a high-risk group.\n",
        "\n",
        "- A sharp decline in incidents is observed with increasing age; drivers aged 65+ are involved in the fewest crashes.\n",
        "\n",
        "- The 26–35 and 36–50 age groups also contribute significantly, suggesting mid-age drivers still present notable risk, though less than younger ones.\n",
        "\n",
        "Gender Distribution\n",
        "\n",
        "- Male drivers are involved in more crashes (27,093) compared to females , showing a notable gender disparity.\n",
        "\n",
        "- Unknown gender accounts for a small portion (~4,442), suggesting either missing or non-disclosed data.\n",
        "\n",
        "Alcohol & Drug Influence\n",
        "\n",
        "- In crashes, alcohol involvement is evident in ~5% of cases (2,440 out of 51,115).\n",
        "\n",
        "- Drug use is even lower, observed in less than 1% of cases (447 out of 51,115), showing alcohol is the more prevalent substance-related factor."
      ],
      "metadata": {
        "id": "TwQcyK0XyuVw"
      }
    },
    {
      "cell_type": "markdown",
      "source": [
        "## Hotspot Analysis: Density plot, scatterplot."
      ],
      "metadata": {
        "id": "UrCynztsSKYI"
      }
    },
    {
      "cell_type": "code",
      "source": [
        "hotspots_fig = px.density_mapbox(\n",
        "    df_clean,\n",
        "    lat='Latitude',\n",
        "    lon='Longitude',\n",
        "    z='Totalfatalities',\n",
        "    radius=15,\n",
        "    center=dict(lat=df_clean['Latitude'].mean(), lon=df_clean['Longitude'].mean()),\n",
        "    zoom=11,\n",
        "    mapbox_style=\"open-street-map\",\n",
        "    title=\"Fatal Crash Hotspots\",\n",
        "    color_continuous_scale=\"Reds\",\n",
        "    opacity=0.7\n",
        ")\n",
        "\n",
        "\n",
        "fatal_crashes = df_clean[df_clean['Totalfatalities'] > 0]\n",
        "if len(fatal_crashes) > 0:\n",
        "    hotspots_fig.add_trace(\n",
        "        go.Scattermapbox(\n",
        "            lat=fatal_crashes['Latitude'],\n",
        "            lon=fatal_crashes['Longitude'],\n",
        "            mode='markers',\n",
        "            marker=dict(size=8, color='red', opacity=0.6),\n",
        "            text=fatal_crashes['DateTime'].astype(str) + '<br>' +\n",
        "                 'Fatalities: ' + fatal_crashes['Totalfatalities'].astype(str),\n",
        "            hovertemplate='<b>Fatal Crash</b><br>%{text}<extra></extra>',\n",
        "            name='Fatal Crashes'\n",
        "        )\n",
        "    )\n",
        "\n",
        "hotspots_fig.update_layout(\n",
        "    height=600,\n",
        "    title_x=0.5,\n",
        "    title_font_size=16\n",
        ")\n",
        "\n",
        "\n",
        "\n",
        "hotspots_fig.write_html(\"hotspots_visualization.html\")\n",
        "print(\"Saved: hotspots_visualization.html\")"
      ],
      "metadata": {
        "colab": {
          "base_uri": "https://localhost:8080/"
        },
        "id": "ljUIb-RJSXe7",
        "outputId": "a3c53451-674a-4a9e-81f4-329d9df19e3d"
      },
      "execution_count": null,
      "outputs": [
        {
          "output_type": "stream",
          "name": "stdout",
          "text": [
            "Saved: hotspots_visualization.html\n"
          ]
        }
      ]
    },
    {
      "cell_type": "markdown",
      "source": [
        "Insights:\n",
        "\n",
        "- Fatal crashes are highly concentrated in certain geographic clusters, forming well-defined hotspots.\n",
        "\n",
        "- These hotspots are likely near urban or high-traffic intersections, suggesting infrastructure or behavior-related risks.\n",
        "\n",
        "- Some zones see multiple events, implying recurring risk rather than isolated incidents."
      ],
      "metadata": {
        "id": "fzKI6BWZzO1L"
      }
    },
    {
      "cell_type": "code",
      "source": [
        "\n",
        "stats = {}\n",
        "\n",
        "# Basic statistics\n",
        "stats['total_crashes'] = len(df_clean)\n",
        "stats['total_injuries'] = df_clean['Totalinjuries'].sum()\n",
        "stats['total_fatalities'] = df_clean['Totalfatalities'].sum()\n",
        "stats['avg_injuries_per_crash'] = df_clean['Totalinjuries'].mean()\n",
        "stats['date_range'] = f\"{df_clean['DateTime'].min()} to {df_clean['DateTime'].max()}\"\n",
        "\n",
        "# Geographic coverage\n",
        "stats['lat_range'] = (df_clean['Latitude'].min(), df_clean['Latitude'].max())\n",
        "stats['lon_range'] = (df_clean['Longitude'].min(), df_clean['Longitude'].max())\n",
        "\n",
        "# Most dangerous conditions\n",
        "stats['worst_weather'] = df_clean.groupby('Weather')['Totalfatalities'].sum().idxmax()\n",
        "stats['worst_light'] = df_clean.groupby('Lightcondition')['Totalfatalities'].sum().idxmax()\n",
        "if 'SurfaceCondition' in df_clean.columns:\n",
        "    stats['worst_surface'] = df_clean.groupby('SurfaceCondition')['Totalfatalities'].sum().idxmax()\n",
        "\n",
        "# Peak times\n",
        "stats['peak_hour'] = df_clean['Hour'].mode().iloc[0] if len(df_clean['Hour'].mode()) > 0 else 'N/A'\n",
        "stats['peak_day'] = df_clean['DayOfWeek'].mode().iloc[0] if len(df_clean['DayOfWeek'].mode()) > 0 else 'N/A'\n",
        "\n",
        "# Print summary\n",
        "\n",
        "print(f\"Total Crashes Analyzed: {stats['total_crashes']:,}\")\n",
        "print(f\"Total Injuries: {stats['total_injuries']:,}\")\n",
        "print(f\"Total Fatalities: {stats['total_fatalities']:,}\")\n",
        "print(f\"Average Injuries per Crash: {stats['avg_injuries_per_crash']:.2f}\")\n",
        "print(f\"Data Period: {stats['date_range']}\")\n",
        "print(f\"Geographic Coverage: Lat {stats['lat_range'][0]:.4f} to {stats['lat_range'][1]:.4f}\")\n",
        "print(f\"                    Lon {stats['lon_range'][0]:.4f} to {stats['lon_range'][1]:.4f}\")\n",
        "print(f\"Most Dangerous Weather: {stats['worst_weather']}\")\n",
        "print(f\"Most Dangerous Light Condition: {stats['worst_light']}\")\n",
        "if 'worst_surface' in stats:\n",
        "    print(f\"Most Dangerous Surface: {stats['worst_surface']}\")\n",
        "print(f\"Peak Crash Hour: {stats['peak_hour']}:00\")\n",
        "print(f\"Peak Crash Day: {stats['peak_day']}\")\n",
        "\n"
      ],
      "metadata": {
        "colab": {
          "base_uri": "https://localhost:8080/"
        },
        "id": "Voo1KCnF5aJV",
        "outputId": "a339a984-d8da-450c-f622-72eb6c7e650b"
      },
      "execution_count": null,
      "outputs": [
        {
          "output_type": "stream",
          "name": "stdout",
          "text": [
            "Total Crashes Analyzed: 51,162\n",
            "Total Injuries: 23,439.0\n",
            "Total Fatalities: 161.0\n",
            "Average Injuries per Crash: 0.46\n",
            "Data Period: 2012-01-01 07:25:00+00:00 to 2024-03-15 07:11:00+00:00\n",
            "Geographic Coverage: Lat 33.3199 to 33.4585\n",
            "                    Lon -111.9791 to -111.8774\n",
            "Most Dangerous Weather: Clear\n",
            "Most Dangerous Light Condition: Dark Lighted\n",
            "Most Dangerous Surface: Dry\n",
            "Peak Crash Hour: 0:00\n",
            "Peak Crash Day: Friday\n"
          ]
        }
      ]
    },
    {
      "cell_type": "code",
      "source": [],
      "metadata": {
        "id": "FfaDFm8ZHfpR"
      },
      "execution_count": null,
      "outputs": []
    }
  ]
}